{
 "metadata": {
  "name": ""
 },
 "nbformat": 3,
 "nbformat_minor": 0,
 "worksheets": [
  {
   "cells": [
    {
     "cell_type": "markdown",
     "metadata": {},
     "source": [
      "This notebook will describe some subtleties of behaviour in the [**Cairo**](http://cairographics.org/) 2D graphics library. Access to Cairo in Python will be done via the [**Qahirah**](https://github.com/ldo/qahirah) high-level binding.\n",
      "\n",
      "First, set up some common definitions which will be reused later."
     ]
    },
    {
     "cell_type": "code",
     "collapsed": false,
     "input": [
      "from IPython.html.widgets import \\\n",
      "    interact\n",
      "from IPython.display import \\\n",
      "    display_png\n",
      "import qahirah as qah\n",
      "from qahirah import \\\n",
      "    CAIRO, \\\n",
      "    Colour, \\\n",
      "    Matrix, \\\n",
      "    Path, \\\n",
      "    Rect, \\\n",
      "    Vector\n",
      "\n",
      "pix = qah.ImageSurface.create \\\n",
      "  (\n",
      "    format = CAIRO.FORMAT_RGB24,\n",
      "    dimensions = (400, 400)\n",
      "  )\n",
      "ctx = None\n",
      "\n",
      "def reset() :\n",
      "    \"(re)initializes the drawing context, wiping out any existing drawing.\"\n",
      "    global ctx\n",
      "    del ctx\n",
      "    ctx = qah.Context.create(pix)\n",
      "    (ctx\n",
      "       .save()\n",
      "       .set_source_colour(Colour.grey(.95))\n",
      "       .paint()\n",
      "       .restore()\n",
      "    )\n",
      "#end reset\n",
      "\n",
      "def display() :\n",
      "    \"(re)displays what has been drawn.\"\n",
      "    display_png(pix.to_png_bytes(), raw = True)\n",
      "#end display\n",
      "\n",
      "reset()"
     ],
     "language": "python",
     "metadata": {},
     "outputs": []
    },
    {
     "cell_type": "heading",
     "level": 2,
     "metadata": {},
     "source": [
      "Path Extents Surprises"
     ]
    },
    {
     "cell_type": "markdown",
     "metadata": {},
     "source": [
      "Cairo provides the `cairo_path_extents`, `cairo_stroke_extents` and `cairo_fill_extents` calls which return the bounding rectangle that the current path would occupy with its basic geometry, or when stroked or filled respectively.\n",
      "\n",
      "However, note that these calls can return surprising results if the CTM has a rotation component!\n",
      "\n",
      "The following example draws a filled green rectangle with various rotation settings, along with two different hollow frames illustrating the different ways of computing the path extents: the reddish one shows the extents returned while the rotation transformation is still in effect, while the blue one shows the extents returned after the transformation has been restored to its previous state."
     ]
    },
    {
     "cell_type": "code",
     "collapsed": false,
     "input": [
      "@interact(rotate = (-90, +90, 5))\n",
      "def path_extents_example(rotate) :\n",
      "    reset()\n",
      "    transform = Matrix.rotate(rotate * qah.deg, pix.dimensions / 2)\n",
      "    (ctx\n",
      "        .save()\n",
      "        .transform(transform)\n",
      "        .rectangle(Rect(0, 0, 170, 100) + pix.dimensions / 3)\n",
      "    )\n",
      "    transformed_extents = ctx.path_extents\n",
      "    ctx.restore()\n",
      "    untransformed_extents = ctx.path_extents\n",
      "    (ctx\n",
      "        .save()\n",
      "        .transform(transform)\n",
      "        .set_source_colour(Colour.from_hsva((0.25, 0.5, 0.5)))\n",
      "        .fill()\n",
      "        .restore()\n",
      "    )\n",
      "    (ctx\n",
      "        .save()\n",
      "        .transform(transform)\n",
      "        .rectangle(transformed_extents)\n",
      "        .set_source_colour(Colour.from_hsva((0.9, 0.75, 0.75)))\n",
      "        .stroke()\n",
      "        .restore()\n",
      "        .rectangle(untransformed_extents)\n",
      "        .set_source_colour(Colour.from_hsva((0.6, 0.5, 0.75)))\n",
      "        .stroke()\n",
      "    )\n",
      "    display()\n",
      "#end path_extents_example"
     ],
     "language": "python",
     "metadata": {},
     "outputs": []
    },
    {
     "cell_type": "markdown",
     "metadata": {},
     "source": [
      "Notice what is going on here? The *untransformed* extents correctly match the *axis-aligned* bounds of the transformed path, while the *transformed* extents reflect the bounds of the *untransformed extents aligned to the transformed axes*. So Cairo is computing, not the bounds of the path, but the bounds of the bounds of the path!\n",
      "\n",
      "Does this behaviour make sense? I don\u2019t think it does. As I understand it, the way that Cairo does path construction is that each point is immediately transformed through the CTM and stored in world coordinates. That\u2019s fine. But the logical way to compute the extents is to put each point through the *inverse* of the CTM, and then work out the minima and maxima along each axis of the resulting coordinates. The caller would then have to put the resulting bounding rectangle through the CTM again to get it to align correctly with the path. This, I think, would be a less surprising, and more useful, result overall."
     ]
    },
    {
     "cell_type": "heading",
     "level": 2,
     "metadata": {},
     "source": [
      "Pattern-Context Matrix"
     ]
    },
    {
     "cell_type": "markdown",
     "metadata": {},
     "source": [
      "When `cairo_set_source` (or one of its convenience wrappers, like `cairo_set_source_surface`) is called to set a source pattern for subsequent drawing, a copy of the CTM is put into a separate field of the drawing context, and used for transforming the pattern instead of the CTM. This copy is not automatically updated for subsequent changes to the CTM, but only when a new source pattern is set. That way, different objects drawn subsequently with different transformations (but without touching the source setting) will have their repeats of the source pattern join up nicely.\n",
      "\n",
      "The following example draws two pairs of circles, one above the other, all filled with the same pattern. The slider lets you adjust the spacing between the circles in each pair. The only difference (apart from the positioning) in the way the two pairs are drawn is the placement of the `set_source` versus `set_matrix` calls. As you alter the positions of the shapes, the pattern origin for filling the upper pair does not move, while for the lower one it does."
     ]
    },
    {
     "cell_type": "code",
     "collapsed": false,
     "input": [
      "@interact(separation = (-50, +150, 10))\n",
      "def pattern_context_matrix_demo(separation) :\n",
      "    shape = Path.create_arc \\\n",
      "      (\n",
      "        centre = (0, 0),\n",
      "        radius = 90,\n",
      "        angle1 = 0,\n",
      "        angle2 = qah.circle,\n",
      "        negative = False\n",
      "      )\n",
      "    shape.segments[0].closed = True\n",
      "    pat = qah.RecordingSurface.create(CAIRO.CONTENT_COLOUR_ALPHA, Rect(0, 0, 100, 100))\n",
      "    (qah.Context.create(pat)\n",
      "        # simple checkerboard pattern\n",
      "        .rectangle(Rect(0, 0, 50, 50))\n",
      "        .rectangle(Rect(50, 50, 50, 50))\n",
      "        .set_source_colour(Colour.grey(0))\n",
      "        .fill()\n",
      "    )\n",
      "    pat.flush()\n",
      "    pat = qah.Pattern.create_for_surface(pat).set_extend(CAIRO.EXTEND_REPEAT)\n",
      "    pos1 = Matrix.translate((200, 100))\n",
      "    pos2 = Matrix.translate((200, 300))\n",
      "    reset()\n",
      "    transform1 = ctx.matrix * Matrix.translate((separation, 0))\n",
      "    transform2 = ctx.matrix * Matrix.translate((- separation, 0))\n",
      "    (ctx\n",
      "        .save()\n",
      "        .set_source(pat)\n",
      "        .set_matrix(transform1)\n",
      "        .append_path(shape.transform(pos1))\n",
      "        .fill()\n",
      "        .set_matrix(transform2)\n",
      "        .append_path(shape.transform(pos1))\n",
      "        .fill()\n",
      "        .restore()\n",
      "    )\n",
      "    (ctx\n",
      "        .save()\n",
      "        .set_matrix(transform1)\n",
      "        .set_source(pat)\n",
      "        .append_path(shape.transform(pos2))\n",
      "        .fill()\n",
      "        .set_matrix(transform2)\n",
      "        .set_source(pat)\n",
      "        .append_path(shape.transform(pos2))\n",
      "        .fill()\n",
      "        .restore()\n",
      "    )\n",
      "    display()\n",
      "#end pattern_context_matrix_demo"
     ],
     "language": "python",
     "metadata": {},
     "outputs": []
    },
    {
     "cell_type": "heading",
     "level": 2,
     "metadata": {},
     "source": [
      "Line Thickness Transformations"
     ]
    },
    {
     "cell_type": "markdown",
     "metadata": {},
     "source": [
      "How would you draw an ellipse in Cairo? It has a built-in pair of `arc` primitives for drawing circles, so an obvious way would be to draw a circle and use a transformation matrix that applies non-uniform scaling to turn this into an ellipse.\n",
      "\n",
      "This will work fine for *filling* an ellipse. But if you were to try *stroking* one, you might notice a pitfall with this technique.\n",
      "\n",
      "The following examples deliberately use a thick line for stroking to make the point clearer."
     ]
    },
    {
     "cell_type": "heading",
     "level": 3,
     "metadata": {},
     "source": [
      "An Ellipse\u2014The Wrong Way"
     ]
    },
    {
     "cell_type": "code",
     "collapsed": false,
     "input": [
      "@interact(distort=(0.0, 1.0, 0.1))\n",
      "def ellipse_wrong_demo(distort) :\n",
      "    reset()\n",
      "    (ctx\n",
      "        .scale((distort, 1))\n",
      "        .arc\n",
      "          (\n",
      "            centre = pix.dimensions / 2,\n",
      "            radius = abs(pix.dimensions) / 4,\n",
      "            angle1 = 0,\n",
      "            angle2 = qah.circle,\n",
      "            negative = False\n",
      "          )\n",
      "        .set_line_width(20)\n",
      "        .stroke()\n",
      "    )\n",
      "    display()\n",
      "#end ellipse_wrong_demo"
     ],
     "language": "python",
     "metadata": {},
     "outputs": []
    },
    {
     "cell_type": "markdown",
     "metadata": {},
     "source": [
      "In the above example, the CTM applies, not only to the construction of the path, but *to the line thickness for stroking as well*."
     ]
    },
    {
     "cell_type": "heading",
     "level": 3,
     "metadata": {},
     "source": [
      "An Ellipse\u2014The Right Way (1)"
     ]
    },
    {
     "cell_type": "code",
     "collapsed": false,
     "input": [
      "@interact(distort=(0.0, 1.0, 0.1))\n",
      "def ellipse_right1_demo(distort) :\n",
      "    reset()\n",
      "    (ctx\n",
      "        .save()\n",
      "        .scale((distort, 1))\n",
      "        .arc\n",
      "          (\n",
      "            centre = pix.dimensions / 2,\n",
      "            radius = abs(pix.dimensions) / 4,\n",
      "            angle1 = 0,\n",
      "            angle2 = qah.circle,\n",
      "            negative = False\n",
      "          )\n",
      "        .restore()\n",
      "        .set_line_width(20)\n",
      "        .stroke()\n",
      "    )\n",
      "    display()\n",
      "#end ellipse_right1_demo"
     ],
     "language": "python",
     "metadata": {},
     "outputs": []
    },
    {
     "cell_type": "markdown",
     "metadata": {},
     "source": [
      "This one works correctly! Note how the non-uniform scaling is *removed* (via the `restore()`) *before* the `set_line_width()` and `stroke()` calls are done."
     ]
    },
    {
     "cell_type": "heading",
     "level": 3,
     "metadata": {},
     "source": [
      "An Ellipse\u2014The Right Way (2)"
     ]
    },
    {
     "cell_type": "markdown",
     "metadata": {},
     "source": [
      "The above is the technique for correctly drawing an ellipse that most directly corresponds to straight Cairo calls. But since Qahirah takes full advantage of Python, here is another technique that doesn\u2019t apply the nonuniform scaling to the context CTM at all, but directly to the path geometry itself."
     ]
    },
    {
     "cell_type": "code",
     "collapsed": false,
     "input": [
      "circle_shape = Path.create_arc \\\n",
      "  (\n",
      "    centre = pix.dimensions / 2,\n",
      "    radius = abs(pix.dimensions) / 4,\n",
      "    angle1 = 0,\n",
      "    angle2 = qah.circle,\n",
      "    negative = False\n",
      "  )\n",
      "\n",
      "@interact(distort=(0.0, 1.0, 0.1))\n",
      "def ellipse_right2_demo(distort) :\n",
      "    reset()\n",
      "    (ctx\n",
      "        .append_path(circle_shape.transform(Matrix.scale((distort, 1))))\n",
      "        .set_line_width(20)\n",
      "        .stroke()\n",
      "    )\n",
      "    display()\n",
      "#end ellipse_right2_demo"
     ],
     "language": "python",
     "metadata": {},
     "outputs": []
    },
    {
     "cell_type": "code",
     "collapsed": false,
     "input": [],
     "language": "python",
     "metadata": {},
     "outputs": []
    }
   ],
   "metadata": {}
  }
 ]
}